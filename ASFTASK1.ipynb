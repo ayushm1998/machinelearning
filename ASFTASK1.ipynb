{
  "nbformat": 4,
  "nbformat_minor": 0,
  "metadata": {
    "colab": {
      "name": "ASFTASK1.ipynb",
      "version": "0.3.2",
      "provenance": [],
      "collapsed_sections": [],
      "include_colab_link": true
    },
    "kernelspec": {
      "name": "python3",
      "display_name": "Python 3"
    }
  },
  "cells": [
    {
      "cell_type": "markdown",
      "metadata": {
        "id": "view-in-github",
        "colab_type": "text"
      },
      "source": [
        "<a href=\"https://colab.research.google.com/github/ayushm1998/machinelearning/blob/master/ASFTASK1.ipynb\" target=\"_parent\"><img src=\"https://colab.research.google.com/assets/colab-badge.svg\" alt=\"Open In Colab\"/></a>"
      ]
    },
    {
      "cell_type": "code",
      "metadata": {
        "id": "w_1tc_K0iP1v",
        "colab_type": "code",
        "colab": {
          "base_uri": "https://localhost:8080/",
          "height": 251
        },
        "outputId": "50aac703-a423-4532-a619-5c54c69784fa"
      },
      "source": [
        "import numpy as np\n",
        "import random\n",
        "\n",
        "print(\"Enter details for first matrix\")\n",
        "x=int (input(\"Enter no. of rows for Matrix 1  -->  \"))\n",
        "y=int (input(\"Enter no. of columns for Matrix 1 --->  \"))\n",
        "\n",
        "print(\"Enter details for second matrix\")\n",
        "x1=int(input(\"Enter no. of rows for Matrix 2 --->\"))\n",
        "y1=int(input(\"Enter no. of columns for Matrix 2 ---> \"))\n",
        "\n",
        "#a= np.random.randn((x,y))\n",
        "#b=np.random.randn((x1,y1))\n",
        "   \n",
        "\n",
        "a=  np.random.randint(10, size=(x, y))\n",
        "b= np.random.randint(10, size=(x1,y1))\n",
        "  \n",
        "  \n",
        "np.savetxt(\"array1.txt\", a,fmt=\"%s\")\n",
        "np.savetxt(\"array.txt\",b, fmt=\"%s\")\n",
        "print(\"ARRAY 1\")\n",
        "np.loadtxt(\"array1.txt\")\n",
        "print(\"ARRAY 2\")\n",
        "np.loadtxt(\"array.txt\")\n"
      ],
      "execution_count": 21,
      "outputs": [
        {
          "output_type": "stream",
          "text": [
            "Enter details for first matrix\n",
            "Enter no. of rows for Matrix 1  -->  3\n",
            "Enter no. of columns for Matrix 1 --->  2\n",
            "Enter details for second matrix\n",
            "Enter no. of rows for Matrix 2 --->6\n",
            "Enter no. of columns for Matrix 2 ---> 7\n",
            "ARRAY 1\n",
            "ARRAY 2\n"
          ],
          "name": "stdout"
        },
        {
          "output_type": "execute_result",
          "data": {
            "text/plain": [
              "array([[6., 9., 2., 9., 6., 4., 9.],\n",
              "       [8., 1., 8., 0., 7., 6., 7.],\n",
              "       [5., 4., 0., 9., 6., 4., 3.],\n",
              "       [3., 6., 7., 1., 9., 7., 5.],\n",
              "       [6., 2., 1., 5., 5., 6., 0.],\n",
              "       [1., 7., 4., 4., 0., 1., 1.]])"
            ]
          },
          "metadata": {
            "tags": []
          },
          "execution_count": 21
        }
      ]
    },
    {
      "cell_type": "code",
      "metadata": {
        "id": "w4WudB20tRaW",
        "colab_type": "code",
        "colab": {}
      },
      "source": [
        ""
      ],
      "execution_count": 0,
      "outputs": []
    }
  ]
}